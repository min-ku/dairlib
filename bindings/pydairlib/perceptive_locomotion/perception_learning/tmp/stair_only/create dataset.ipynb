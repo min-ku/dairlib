{
 "cells": [
  {
   "cell_type": "code",
   "execution_count": 14,
   "id": "a482782f",
   "metadata": {},
   "outputs": [],
   "source": [
    "import numpy as np\n",
    "alip = np.load('ALIP.npy')\n",
    "footstep = np.load('FOOTSTEP.npy')\n",
    "hmap = np.load('HMAP.npy')"
   ]
  },
  {
   "cell_type": "code",
   "execution_count": 15,
   "id": "15987c63",
   "metadata": {},
   "outputs": [
    {
     "data": {
      "text/plain": [
       "(39920, 3, 64, 64)"
      ]
     },
     "execution_count": 15,
     "metadata": {},
     "output_type": "execute_result"
    }
   ],
   "source": [
    "hmap.shape"
   ]
  },
  {
   "cell_type": "code",
   "execution_count": 11,
   "id": "e7482ba8",
   "metadata": {},
   "outputs": [],
   "source": [
    "#hmap = hmap[:,2]"
   ]
  },
  {
   "cell_type": "code",
   "execution_count": 16,
   "id": "ad1bf3cd",
   "metadata": {},
   "outputs": [],
   "source": [
    "hmap[np.isneginf(hmap)] = -1"
   ]
  },
  {
   "cell_type": "code",
   "execution_count": 17,
   "id": "41fa3e2a",
   "metadata": {},
   "outputs": [
    {
     "data": {
      "text/plain": [
       "(39920, 12292)"
      ]
     },
     "execution_count": 17,
     "metadata": {},
     "output_type": "execute_result"
    }
   ],
   "source": [
    "HMAP_flat = hmap.reshape((hmap.shape[0], -1))\n",
    "flattened_data = np.concatenate((HMAP_flat, alip), axis=1)\n",
    "#flattened_data[np.isneginf(flattened_data)] = -1\n",
    "flattened_data.shape"
   ]
  },
  {
   "cell_type": "code",
   "execution_count": 18,
   "id": "8ab52968",
   "metadata": {},
   "outputs": [],
   "source": [
    "np.save('observationsNN_test3', flattened_data)\n",
    "np.save('actionsNN_test3', footstep)"
   ]
  },
  {
   "cell_type": "code",
   "execution_count": 77,
   "id": "c110eaa6",
   "metadata": {},
   "outputs": [
    {
     "data": {
      "text/plain": [
       "66189"
      ]
     },
     "execution_count": 77,
     "metadata": {},
     "output_type": "execute_result"
    }
   ],
   "source": [
    "np.sum(hmap == -np.inf)"
   ]
  },
  {
   "cell_type": "code",
   "execution_count": 54,
   "id": "357d0479",
   "metadata": {},
   "outputs": [],
   "source": [
    "#import sys\n",
    "#np.set_printoptions(threshold=sys.maxsize)\n",
    "#hmap[17635,2,:]"
   ]
  },
  {
   "cell_type": "code",
   "execution_count": 39,
   "id": "8e3d7490",
   "metadata": {},
   "outputs": [
    {
     "data": {
      "text/plain": [
       "True"
      ]
     },
     "execution_count": 39,
     "metadata": {},
     "output_type": "execute_result"
    }
   ],
   "source": [
    "#np.isinf(hmap[:,2,:]).any()\n",
    "#np.sum(np.isinf(hmap[:,2,:]))\n",
    "#np.where(np.isinf(hmap[:,2,:]))\n",
    "#hmap[np.isinf(hmap)] = np.finfo(np.float32).max\n",
    "#np.max(hmap[:,2,:])"
   ]
  },
  {
   "cell_type": "code",
   "execution_count": 1,
   "id": "16cc5c3e",
   "metadata": {},
   "outputs": [
    {
     "data": {
      "text/plain": [
       "dtype('float64')"
      ]
     },
     "execution_count": 1,
     "metadata": {},
     "output_type": "execute_result"
    }
   ],
   "source": [
    "import numpy as np\n",
    "obs = np.load('observationsNN.npy')\n",
    "obs.dtype"
   ]
  },
  {
   "cell_type": "code",
   "execution_count": 63,
   "id": "3ad4f09b",
   "metadata": {},
   "outputs": [],
   "source": [
    "np.save('observationsNN', flattened_data)"
   ]
  },
  {
   "cell_type": "code",
   "execution_count": 64,
   "id": "517e32e2",
   "metadata": {},
   "outputs": [],
   "source": [
    "np.save('actionsNN', footstep)"
   ]
  },
  {
   "cell_type": "code",
   "execution_count": 12,
   "id": "b4eec6eb",
   "metadata": {},
   "outputs": [],
   "source": [
    "#np.save('observations', x_values)\n",
    "#np.save('actions', output)"
   ]
  },
  {
   "cell_type": "code",
   "execution_count": 7,
   "id": "d2e746d5",
   "metadata": {},
   "outputs": [
    {
     "data": {
      "text/plain": [
       "array([0.67869226, 0.00476704])"
      ]
     },
     "execution_count": 7,
     "metadata": {},
     "output_type": "execute_result"
    }
   ],
   "source": [
    "#np.array([-0.2321204, 0.01578688, 0.06369659, -1.16279758]) @ K.T"
   ]
  },
  {
   "cell_type": "code",
   "execution_count": null,
   "id": "c1c159be",
   "metadata": {},
   "outputs": [],
   "source": []
  }
 ],
 "metadata": {
  "kernelspec": {
   "display_name": "Python 3 (ipykernel)",
   "language": "python",
   "name": "python3"
  },
  "language_info": {
   "codemirror_mode": {
    "name": "ipython",
    "version": 3
   },
   "file_extension": ".py",
   "mimetype": "text/x-python",
   "name": "python",
   "nbconvert_exporter": "python",
   "pygments_lexer": "ipython3",
   "version": "3.10.12"
  }
 },
 "nbformat": 4,
 "nbformat_minor": 5
}
